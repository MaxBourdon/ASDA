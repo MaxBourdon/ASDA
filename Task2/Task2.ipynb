{
 "cells": [
  {
   "cell_type": "markdown",
   "metadata": {},
   "source": [
    "## Здравствуйте, меня зовут *Имя Фамилия*, вот моё Задание №2 по курсу ПСАД-2019!"
   ]
  },
  {
   "cell_type": "code",
   "execution_count": null,
   "metadata": {},
   "outputs": [],
   "source": [
    "import pandas as pd\n",
    "import numpy as np\n",
    "import scipy as sp\n",
    "from collections import defaultdict\n",
    "from matplotlib import pyplot as plt\n",
    "\n",
    "import seaborn as sns\n",
    "sns.set()\n",
    "\n",
    "np.random.seed(228)\n",
    "\n",
    "%matplotlib inline\n",
    "%config InlineBackend.figure_format = 'svg' "
   ]
  },
  {
   "cell_type": "markdown",
   "metadata": {},
   "source": [
    "### Задача 1  "
   ]
  },
  {
   "cell_type": "markdown",
   "metadata": {},
   "source": [
    "Задана выборка, включающая значения переменной $X$. "
   ]
  },
  {
   "cell_type": "code",
   "execution_count": null,
   "metadata": {},
   "outputs": [],
   "source": [
    "X = pd.read_excel('t1_data.xlsx').values.ravel()\n",
    "\n",
    "sns.distplot(X, label='X distribution', bins=20)\n",
    "plt.vlines(X.mean(), *plt.ylim(), linestyles='--', colors='b', label=\"X sample mean\")\n",
    "plt.legend()\n",
    "print(\"X sample mean: \", np.round(X.mean(), 3))\n",
    "plt.show()"
   ]
  },
  {
   "cell_type": "markdown",
   "metadata": {},
   "source": [
    "Определите доверительный интервал для математического ожидания на уровне $\\alpha$ (для каждого $\\alpha$ из списка) c использованием..."
   ]
  },
  {
   "cell_type": "code",
   "execution_count": null,
   "metadata": {},
   "outputs": [],
   "source": [
    "alpha_list = np.array([0.1, 0.075, 0.05, 0.025, 0.01]) "
   ]
  },
  {
   "cell_type": "markdown",
   "metadata": {},
   "source": [
    "Распределения Стьюдента"
   ]
  },
  {
   "cell_type": "code",
   "execution_count": null,
   "metadata": {},
   "outputs": [],
   "source": [
    "def student_mci(data, alpha=0.05):\n",
    "    # Your code goes here...\n",
    "    pass"
   ]
  },
  {
   "cell_type": "markdown",
   "metadata": {},
   "source": [
    "Бутстрэп оценивания"
   ]
  },
  {
   "cell_type": "code",
   "execution_count": null,
   "metadata": {},
   "outputs": [],
   "source": [
    "def bootstrap_mci(data, alpha=0.05):\n",
    "    # Your code goes here...\n",
    "    pass"
   ]
  },
  {
   "cell_type": "markdown",
   "metadata": {},
   "source": [
    "Сравните результаты и сделайте выводы."
   ]
  },
  {
   "cell_type": "code",
   "execution_count": null,
   "metadata": {},
   "outputs": [],
   "source": [
    "res = defaultdict(list)\n",
    "res[\"alpha\"] = alpha_list\n",
    "res[\"Student\"] = [np.round(student_mci(X, alpha), 3) for alpha in alpha_list]\n",
    "res[\"Bootstrap\"] = [np.round(bootstrap_mci(X, alpha), 3) for alpha in alpha_list]\n",
    "res = pd.DataFrame(res)\n",
    "res"
   ]
  },
  {
   "cell_type": "markdown",
   "metadata": {},
   "source": [
    "**Выводы:**"
   ]
  },
  {
   "cell_type": "markdown",
   "metadata": {},
   "source": [
    "### Задача 2\n"
   ]
  },
  {
   "cell_type": "markdown",
   "metadata": {},
   "source": [
    "Задана выборка $Y$ результатов распознавания для некоторой задачи классификации."
   ]
  },
  {
   "cell_type": "code",
   "execution_count": null,
   "metadata": {},
   "outputs": [],
   "source": [
    "Y = pd.read_excel(\"t2_data.xlsx\").values.ravel()\n",
    "\n",
    "plt.plot(np.arange(Y.size)[Y == 1], np.count_nonzero(Y == 1) * [1], 'r+', label='Y = 1')\n",
    "plt.plot(np.arange(Y.size)[Y == 0], np.count_nonzero(Y == 0) * [0], 'b.', label='Y = 0')\n",
    "plt.legend()\n",
    "plt.show()"
   ]
  },
  {
   "cell_type": "markdown",
   "metadata": {},
   "source": [
    "Оцените доверительный интервал для показателя *ACCURACY* с использованием..."
   ]
  },
  {
   "cell_type": "markdown",
   "metadata": {},
   "source": [
    "Метода Клоппера-Пирсона (с использованием аппроксимации через бета-распределение)"
   ]
  },
  {
   "cell_type": "code",
   "execution_count": null,
   "metadata": {},
   "outputs": [],
   "source": [
    "def bin_clopper_pearson(data, alpha=0.05):\n",
    "    # Your code goes here...\n",
    "    pass"
   ]
  },
  {
   "cell_type": "markdown",
   "metadata": {},
   "source": [
    "Нормальной аппроксимации"
   ]
  },
  {
   "cell_type": "code",
   "execution_count": null,
   "metadata": {},
   "outputs": [],
   "source": [
    "def bin_normal_approx(data, alpha=0.05):\n",
    "    # Your code goes here...\n",
    "    pass"
   ]
  },
  {
   "cell_type": "markdown",
   "metadata": {},
   "source": [
    "Сравните результаты и сделайте выводы."
   ]
  },
  {
   "cell_type": "code",
   "execution_count": null,
   "metadata": {},
   "outputs": [],
   "source": [
    "res = defaultdict(list)\n",
    "res[\"alpha\"] = alpha_list\n",
    "res[\"Clopper-Pearson\"] = [np.round(bin_clopper_pearson(Y, alpha), 3) for alpha in alpha_list]\n",
    "res[\"Normal\"] = [np.round(bin_normal_approx(Y, alpha), 3) for alpha in alpha_list]\n",
    "res = pd.DataFrame(res)\n",
    "res"
   ]
  },
  {
   "cell_type": "markdown",
   "metadata": {},
   "source": [
    "**Выводы:**"
   ]
  },
  {
   "cell_type": "markdown",
   "metadata": {},
   "source": [
    "### Задача 3"
   ]
  },
  {
   "cell_type": "markdown",
   "metadata": {},
   "source": [
    "Два предприятия выпускают  изделия одного и того же назначения. Предприятие I выпускает изделия с математическим ожиданием срока службы $T_1$, предприятие II выпускает изделия с математическим ожиданием срока службы $T_2$. Сроки службы изделий обоих предприятий распределены нормально и стандартные отклонения для них равны $\\sigma_1$ и $\\sigma_2$ соответственно. При этом $T_1 < T_2$, но изделия второго предприятия дороже."
   ]
  },
  {
   "cell_type": "code",
   "execution_count": null,
   "metadata": {},
   "outputs": [],
   "source": [
    "T1, T2, sigma1, sigma2 = 10, 16, 2, 3\n",
    "\n",
    "def plot_T(T, sigma, c, label):\n",
    "    norm = sp.stats.norm(loc=T, scale=sigma)\n",
    "    x = np.linspace(norm.ppf(0.01), norm.ppf(0.99), 1000)\n",
    "    plt.plot(x, norm.pdf(x), c=c)\n",
    "    plt.vlines(T, *plt.ylim(), linestyles='--', colors=c, label=label)\n",
    "    \n",
    "plot_T(T1, sigma1, 'b', 'T1')\n",
    "plot_T(T2, sigma2, 'r', 'T2')\n",
    "plt.legend()\n",
    "plt.show()"
   ]
  },
  {
   "cell_type": "markdown",
   "metadata": {},
   "source": [
    "Третье предприятие утверждает, что ему удалось разработать технологию производства изделий со сроком службы  предприятия II, но по цене предприятия I. В качестве доказательства предлагаются результаты тестирования для $k$ изделий. \n",
    "\n",
    "Нулевая гипотеза $H_0$ предполагает, что на самом деле срок службы изделий предприятия III имеет распределение, совпадающее с распределением срока службы изделий предприятия I. Альтернативная гипотеза $H_1$ предполагает, что срок службы изделий предприятия III имеет распределение, совпадающее с распределением срока службы изделий предприятия II. Проверка этих двух предположений производится с использованием критерия Неймана-Пирсона. Допустимая ошибка первого рода &mdash; $\\alpha$."
   ]
  },
  {
   "cell_type": "code",
   "execution_count": null,
   "metadata": {},
   "outputs": [],
   "source": [
    "def sample_from_T3(k):\n",
    "    \"Draws k samples from the 3rd company products lifetime distribution.\"\n",
    "    T3, sigma3 = 14, 2.5  # Ooops, spoiler...\n",
    "    return T3 + sigma3 * np.random.randn(k)  \n",
    "\n",
    "alpha = 0.05"
   ]
  },
  {
   "cell_type": "markdown",
   "metadata": {},
   "source": [
    "Постройте график мощности теста в зависимости от $k$ и сделайте выводы."
   ]
  },
  {
   "cell_type": "code",
   "execution_count": null,
   "metadata": {},
   "outputs": [],
   "source": [
    "# Your code goes here..."
   ]
  },
  {
   "cell_type": "markdown",
   "metadata": {},
   "source": [
    "**Выводы:**"
   ]
  }
 ],
 "metadata": {
  "kernelspec": {
   "display_name": "Python 3",
   "language": "python",
   "name": "python3"
  },
  "language_info": {
   "codemirror_mode": {
    "name": "ipython",
    "version": 3
   },
   "file_extension": ".py",
   "mimetype": "text/x-python",
   "name": "python",
   "nbconvert_exporter": "python",
   "pygments_lexer": "ipython3",
   "version": "3.6.8"
  }
 },
 "nbformat": 4,
 "nbformat_minor": 2
}
