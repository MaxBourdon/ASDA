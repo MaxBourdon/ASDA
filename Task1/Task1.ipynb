{
 "cells": [
  {
   "cell_type": "markdown",
   "metadata": {},
   "source": [
    "## Здравствуйте, меня зовут *Имя Фамилия*, вот моё Задание №1 по курсу ПСАД-2019!"
   ]
  },
  {
   "cell_type": "code",
   "execution_count": null,
   "metadata": {},
   "outputs": [],
   "source": [
    "import pandas as pd\n",
    "import numpy as np\n",
    "from matplotlib import pyplot as plt\n",
    "\n",
    "import seaborn as sns\n",
    "sns.set()\n",
    "\n",
    "%matplotlib inline\n",
    "%config InlineBackend.figure_format = 'svg' "
   ]
  },
  {
   "cell_type": "code",
   "execution_count": null,
   "metadata": {},
   "outputs": [],
   "source": [
    "from scipy.stats import linregress\n",
    "\n",
    "def draw_linear(x, y, x_name='', y_name=''):\n",
    "    \"Scatter x-y points and draw a LR line.\"\n",
    "    slope, intercept, r, _, _ = linregress(x, y)\n",
    "    x_lims = np.array([x.min() - 1, x.max() + 1])\n",
    "    plt.xlabel(x_name)\n",
    "    plt.ylabel(y_name)\n",
    "    plt.plot(x, y, 'g+', label='Objects')\n",
    "    plt.plot(x_lims, intercept + slope * x_lims, 'r--', label=r\"LR line with $\\rho \\approx {:.3f}$\".format(r))\n",
    "    plt.legend()\n",
    "    plt.show()"
   ]
  },
  {
   "cell_type": "code",
   "execution_count": null,
   "metadata": {},
   "outputs": [],
   "source": [
    "from sklearn.metrics import confusion_matrix\n",
    "\n",
    "def draw_cm(x_bin, y_bin, x_name='', y_name=''):\n",
    "    \"Draw a confusion matrix for binary 1-D arrays x_bin and y_bin.\"\n",
    "    cm = confusion_matrix(x_bin, y_bin)\n",
    "    plt.matshow(cm)\n",
    "    plt.xlabel(x_name)\n",
    "    plt.ylabel(y_name)\n",
    "    plt.colorbar()\n",
    "    plt.grid(False)\n",
    "    plt.show()"
   ]
  },
  {
   "cell_type": "code",
   "execution_count": null,
   "metadata": {},
   "outputs": [],
   "source": [
    "from itertools import combinations\n",
    "from collections import defaultdict\n",
    "\n",
    "def apply_pair_statistics(S, pair_statistics, statistics_names):\n",
    "    \"\"\"Apply pair statistics to each pair in a dataset S \n",
    "    and return a DataFrame containing the results.\n",
    "    \n",
    "    Parameters\n",
    "    ----------\n",
    "    S: array of shape (N, D)\n",
    "        A dataset numpy array.\n",
    "    pair_statistics: list of callables\n",
    "        A list of statistics -- functions requiring two array arguments (x and y) \n",
    "        and returning a number (statistic's value)\n",
    "    statistics_names: list of strings\n",
    "        A list of statistics names.\n",
    "    \"\"\"\n",
    "    res = defaultdict(list)\n",
    "\n",
    "    for i, j in combinations(range(S.shape[1]), 2):\n",
    "        x_name, y_name = f'X{i+1}', f'X{j+1}'\n",
    "        x, y = S.T[i], S.T[j]\n",
    "        res[\"Pair\"].append(x_name + ' - ' + y_name)\n",
    "        for statistic, name in zip(pair_statistics, statistics_names):\n",
    "            res[name].append(statistic(x, y))\n",
    "\n",
    "    res = pd.DataFrame(res)\n",
    "    return res"
   ]
  },
  {
   "cell_type": "markdown",
   "metadata": {},
   "source": [
    "## Итак..."
   ]
  },
  {
   "cell_type": "markdown",
   "metadata": {},
   "source": [
    "Пусть задана обучающая выборка $\\widetilde{S}$, включающая значения переменных $X_1, \\dots, X_4$."
   ]
  },
  {
   "cell_type": "code",
   "execution_count": null,
   "metadata": {},
   "outputs": [],
   "source": [
    "S = np.load('data')"
   ]
  },
  {
   "cell_type": "markdown",
   "metadata": {},
   "source": [
    "### Задача 1  "
   ]
  },
  {
   "cell_type": "markdown",
   "metadata": {},
   "source": [
    "Вычислите для каждой пары переменных коэффициент корреляции Пирсона."
   ]
  },
  {
   "cell_type": "code",
   "execution_count": null,
   "metadata": {},
   "outputs": [],
   "source": [
    "def pearson(x, y):\n",
    "    \"Calculate a Pearson correlation coefficient given 1-D data arrays x and y.\"\n",
    "    # TODO: implement me!!!\n",
    "    pass\n",
    "\n",
    "res_pearson = apply_pair_statistics(S, [pearson], ['Pearson'])\n",
    "res_pearson"
   ]
  },
  {
   "cell_type": "markdown",
   "metadata": {},
   "source": [
    "Сопоставьте каждой из переменных  $X_1,\\dots,X_4$  соответствующую порядковую переменную."
   ]
  },
  {
   "cell_type": "code",
   "execution_count": null,
   "metadata": {},
   "outputs": [],
   "source": [
    "def rank(x):\n",
    "    \"Assign ranks to data and return the resulting ranking array.\"\n",
    "    # TODO: implement me!!!\n",
    "    pass\n",
    "\n",
    "S_r = np.array([rank(x) for x in S.T]).T"
   ]
  },
  {
   "cell_type": "markdown",
   "metadata": {},
   "source": [
    "Вычислите для каждой из пар переменных коэффициенты корреляции Спирмена и Кендалла ($\\tau$-коэффициент)."
   ]
  },
  {
   "cell_type": "code",
   "execution_count": null,
   "metadata": {},
   "outputs": [],
   "source": [
    "def spearman(x_r, y_r):\n",
    "    \"Calculate a Spearman correlation coefficient given 1-D ranking arrays x_r and y_r.\"\n",
    "    # TODO: implement me!!!\n",
    "    pass\n",
    "\n",
    "def kendall(x_r, y_r):\n",
    "    \"Calculate a Kendall tau correlation coefficient given 1-D ranking arrays x_r and y_r.\"\n",
    "    # TODO: implement me!!!\n",
    "    pass\n",
    "\n",
    "res_ranked = apply_pair_statistics(S_r, [spearman, kendall], ['Spearman', 'Kendall'])\n",
    "res_ranked"
   ]
  },
  {
   "cell_type": "markdown",
   "metadata": {},
   "source": [
    "Посмотрите на общую таблицу результатов и на графики ниже, сделайте выводы. \n",
    "\n",
    "При желании можно построить свои графики / вывести дополнительные результаты."
   ]
  },
  {
   "cell_type": "code",
   "execution_count": null,
   "metadata": {},
   "outputs": [],
   "source": [
    "res_final = pd.merge(res_pearson, res_ranked)\n",
    "res_final"
   ]
  },
  {
   "cell_type": "code",
   "execution_count": null,
   "metadata": {},
   "outputs": [],
   "source": [
    "draw_linear(S.T[0], S.T[1], 'X1', 'X2')\n",
    "draw_linear(S.T[1], S.T[2], 'X2', 'X3')\n",
    "draw_linear(S.T[2], S.T[3], 'X3', 'X4')"
   ]
  },
  {
   "cell_type": "markdown",
   "metadata": {},
   "source": [
    "**Выводы:**"
   ]
  },
  {
   "cell_type": "markdown",
   "metadata": {},
   "source": [
    "### Задача 2\n"
   ]
  },
  {
   "cell_type": "markdown",
   "metadata": {},
   "source": [
    "Бинаризуйте выборку $\\widetilde{S}$ по медиане."
   ]
  },
  {
   "cell_type": "code",
   "execution_count": null,
   "metadata": {},
   "outputs": [],
   "source": [
    "S_bin = None  # TODO: implement me!!!"
   ]
  },
  {
   "cell_type": "markdown",
   "metadata": {},
   "source": [
    "Вычислите для каждой пары бинаризованных переменных коэффициенты близости Жаккара и $\\phi$."
   ]
  },
  {
   "cell_type": "code",
   "execution_count": null,
   "metadata": {},
   "outputs": [],
   "source": [
    "def jaccard(x_bin, y_bin):\n",
    "    \"Compute the Jaccard coefficient given 1-D boolean arrays x_bin and y_bin.\"\n",
    "    # TODO: implement me!!!\n",
    "    pass\n",
    "\n",
    "def phi(x_bin, y_bin):\n",
    "    \"Compute the phi coefficient given 1-D boolean arrays x_bin and y_bin.\"\n",
    "    # TODO: implement me!!!\n",
    "    pass\n",
    "\n",
    "res_bin = apply_pair_statistics(S_bin, [jaccard, phi], ['Jaccard', 'Phi'])\n",
    "res_bin"
   ]
  },
  {
   "cell_type": "markdown",
   "metadata": {},
   "source": [
    "Сделайте выводы по полученным результатам и приведённым ниже матрицам ошибок.\n",
    "\n",
    "При желании можно построить свои графики / вывести дополнительные результаты."
   ]
  },
  {
   "cell_type": "code",
   "execution_count": null,
   "metadata": {},
   "outputs": [],
   "source": [
    "draw_cm(S_bin.T[0], S_bin.T[1], 'X1', 'X2')\n",
    "draw_cm(S_bin.T[1], S_bin.T[2], 'X2', 'X3')\n",
    "draw_cm(S_bin.T[2], S_bin.T[3], 'X3', 'X4')"
   ]
  },
  {
   "cell_type": "markdown",
   "metadata": {},
   "source": [
    "**Выводы:**"
   ]
  }
 ],
 "metadata": {
  "kernelspec": {
   "display_name": "Python 3",
   "language": "python",
   "name": "python3"
  },
  "language_info": {
   "codemirror_mode": {
    "name": "ipython",
    "version": 3
   },
   "file_extension": ".py",
   "mimetype": "text/x-python",
   "name": "python",
   "nbconvert_exporter": "python",
   "pygments_lexer": "ipython3",
   "version": "3.6.6"
  }
 },
 "nbformat": 4,
 "nbformat_minor": 2
}
